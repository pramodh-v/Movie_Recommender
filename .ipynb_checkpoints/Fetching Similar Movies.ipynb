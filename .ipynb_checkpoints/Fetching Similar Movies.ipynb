{
 "cells": [
  {
   "cell_type": "code",
   "execution_count": 1,
   "id": "modular-straight",
   "metadata": {},
   "outputs": [],
   "source": [
    "import pandas as pd\n",
    "import numpy as np"
   ]
  },
  {
   "cell_type": "code",
   "execution_count": 2,
   "id": "clear-veteran",
   "metadata": {},
   "outputs": [],
   "source": [
    "from sklearn.feature_extraction.text import CountVectorizer\n",
    "from sklearn.metrics.pairwise import cosine_similarity"
   ]
  },
  {
   "cell_type": "code",
   "execution_count": 3,
   "id": "compressed-howard",
   "metadata": {},
   "outputs": [],
   "source": [
    "def create_sim_mat():\n",
    "    dataset = pd.read_csv('Final_Movie_Data.csv')\n",
    "    cv = CountVectorizer()\n",
    "    c_m = cv.fit_transform(dataset['combined'])\n",
    "    sim = cosine_similarity(c_m)\n",
    "    return dataset,sim"
   ]
  },
  {
   "cell_type": "code",
   "execution_count": 4,
   "id": "rubber-catalog",
   "metadata": {},
   "outputs": [
    {
     "name": "stdout",
     "output_type": "stream",
     "text": [
      "[[1.         0.24174689 0.16116459 ... 0.0805823  0.         0.        ]\n",
      " [0.24174689 1.         0.18181818 ... 0.         0.         0.        ]\n",
      " [0.16116459 0.18181818 1.         ... 0.         0.         0.        ]\n",
      " ...\n",
      " [0.0805823  0.         0.         ... 1.         0.08703883 0.10050378]\n",
      " [0.         0.         0.         ... 0.08703883 1.         0.09622504]\n",
      " [0.         0.         0.         ... 0.10050378 0.09622504 1.        ]]\n"
     ]
    }
   ],
   "source": [
    "print(create_sim_mat()[1])"
   ]
  },
  {
   "cell_type": "code",
   "execution_count": 47,
   "id": "corrected-cleaners",
   "metadata": {},
   "outputs": [
    {
     "name": "stdout",
     "output_type": "stream",
     "text": [
      "[(5760, 0.4), (6065, 0.4), (5400, 0.3585685828003181), (6022, 0.3585685828003181), (5430, 0.33541019662496846), (5548, 0.33541019662496846), (6226, 0.33541019662496846), (5780, 0.31622776601683794), (6025, 0.31622776601683794), (5685, 0.30000000000000004)]\n",
      "['Thrissur Pooram', 'Sarileru Neekevvaru', 'Bairavaa', 'Namma Veettu Pillai', 'Kavan', 'Dharmaprabhu', 'Puppy', 'A1: Accused No. 1', 'Comali', 'Chopsticks']\n"
     ]
    }
   ],
   "source": [
    "dataset,sim = create_sim_mat()\n",
    "if 'Dagaalty' not in dataset['movie_title'].unique():\n",
    "    print('Movie Not Found')\n",
    "else:\n",
    "    index = dataset.loc[dataset['movie_title']=='Dagaalty'].index[0]\n",
    "    similar = list(enumerate(sim[index])) # Converting similar movies into a list\n",
    "    similar = sorted(similar,key= lambda x:x[1],reverse=True) # Sorting Values in Descending Order\n",
    "    similar = similar[1:11] # Drop The Movie title which has sim score of 1.\n",
    "    print(similar)\n",
    "    similar_movies = []\n",
    "    for i in range(len(similar)):\n",
    "        similar_movies.append(dataset['movie_title'][similar[i][0]])\n",
    "    print(similar_movies)"
   ]
  },
  {
   "cell_type": "code",
   "execution_count": 48,
   "id": "manual-construction",
   "metadata": {},
   "outputs": [
    {
     "data": {
      "text/html": [
       "<div>\n",
       "<style scoped>\n",
       "    .dataframe tbody tr th:only-of-type {\n",
       "        vertical-align: middle;\n",
       "    }\n",
       "\n",
       "    .dataframe tbody tr th {\n",
       "        vertical-align: top;\n",
       "    }\n",
       "\n",
       "    .dataframe thead th {\n",
       "        text-align: right;\n",
       "    }\n",
       "</style>\n",
       "<table border=\"1\" class=\"dataframe\">\n",
       "  <thead>\n",
       "    <tr style=\"text-align: right;\">\n",
       "      <th></th>\n",
       "      <th>director</th>\n",
       "      <th>actor_1_name</th>\n",
       "      <th>actor_2_name</th>\n",
       "      <th>actor_3_name</th>\n",
       "      <th>genres</th>\n",
       "      <th>movie_title</th>\n",
       "      <th>combined</th>\n",
       "    </tr>\n",
       "  </thead>\n",
       "  <tbody>\n",
       "    <tr>\n",
       "      <th>6065</th>\n",
       "      <td>Anil Ravipudi</td>\n",
       "      <td>Mahesh Babu</td>\n",
       "      <td>Rashmika Mandanna</td>\n",
       "      <td>Vijayshanti</td>\n",
       "      <td>Action  Comedy  Drama</td>\n",
       "      <td>Sarileru Neekevvaru</td>\n",
       "      <td>Mahesh Babu  Rashmika Mandanna  Vijayshanti An...</td>\n",
       "    </tr>\n",
       "  </tbody>\n",
       "</table>\n",
       "</div>"
      ],
      "text/plain": [
       "           director actor_1_name        actor_2_name  actor_3_name  \\\n",
       "6065  Anil Ravipudi  Mahesh Babu   Rashmika Mandanna   Vijayshanti   \n",
       "\n",
       "                     genres          movie_title  \\\n",
       "6065  Action  Comedy  Drama  Sarileru Neekevvaru   \n",
       "\n",
       "                                               combined  \n",
       "6065  Mahesh Babu  Rashmika Mandanna  Vijayshanti An...  "
      ]
     },
     "execution_count": 48,
     "metadata": {},
     "output_type": "execute_result"
    }
   ],
   "source": [
    "dataset[dataset['movie_title'] == 'Sarileru Neekevvaru' ]"
   ]
  },
  {
   "cell_type": "code",
   "execution_count": 53,
   "id": "similar-bahrain",
   "metadata": {},
   "outputs": [],
   "source": [
    "def recom(movie):\n",
    "    try:\n",
    "        dataset.head()\n",
    "        sim.shape\n",
    "    except:\n",
    "        dataset,sim = create_sim_mat()\n",
    "    if movie not in dataset['movie_title'].unique():\n",
    "            return('Movie is not found')\n",
    "    else:\n",
    "        index = dataset.loc[dataset['movie_title']==movie].index[0] # Getting Index of Title\n",
    "        similar = list(enumerate(sim[index])) # Converting similar movies into a list\n",
    "        similar = sorted(similar,key= lambda x:x[1],reverse=True) # Sorting Values in Descending Order\n",
    "        similar = similar[1:11] # Drop The Movie title which has sim score of 1.\n",
    "        similar_movies = []\n",
    "        for i in range(len(similar)):\n",
    "            similar_movies.append(dataset['movie_title'][similar[i][0]])\n",
    "        #print(similar_movies)\n",
    "        return similar_movies"
   ]
  },
  {
   "cell_type": "code",
   "execution_count": 58,
   "id": "discrete-benjamin",
   "metadata": {},
   "outputs": [],
   "source": [
    "movie = \"Memento\"\n",
    "recommended = recom(movie)"
   ]
  },
  {
   "cell_type": "code",
   "execution_count": 59,
   "id": "decent-harvest",
   "metadata": {},
   "outputs": [
    {
     "name": "stdout",
     "output_type": "stream",
     "text": [
      "['Insomnia', 'Case 39', 'Paycheck', 'The Prestige', 'The X Files: I Want to Believe', 'Enter Nowhere', 'The Dark Knight Rises', 'Shattered', 'Triangle', 'Martha Marcy May Marlene']\n"
     ]
    }
   ],
   "source": [
    "print(recommended)"
   ]
  },
  {
   "cell_type": "code",
   "execution_count": null,
   "id": "ahead-angola",
   "metadata": {},
   "outputs": [],
   "source": []
  }
 ],
 "metadata": {
  "kernelspec": {
   "display_name": "Python 3",
   "language": "python",
   "name": "python3"
  },
  "language_info": {
   "codemirror_mode": {
    "name": "ipython",
    "version": 3
   },
   "file_extension": ".py",
   "mimetype": "text/x-python",
   "name": "python",
   "nbconvert_exporter": "python",
   "pygments_lexer": "ipython3",
   "version": "3.9.5"
  }
 },
 "nbformat": 4,
 "nbformat_minor": 5
}
